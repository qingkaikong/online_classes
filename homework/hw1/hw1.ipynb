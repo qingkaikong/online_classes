{
 "metadata": {
  "name": ""
 },
 "nbformat": 3,
 "nbformat_minor": 0,
 "worksheets": [
  {
   "cells": [
    {
     "cell_type": "code",
     "collapsed": false,
     "input": [
      "import numpy as np\n",
      "import matplotlib.pyplot as plt\n",
      "from cvxopt import matrix, solvers"
     ],
     "language": "python",
     "metadata": {},
     "outputs": [],
     "prompt_number": 192
    },
    {
     "cell_type": "markdown",
     "metadata": {},
     "source": [
      "##Question 2"
     ]
    },
    {
     "cell_type": "code",
     "collapsed": false,
     "input": [
      "#the initial X and y array\n",
      "X = np.array([(1,0), (0,1), (0,-1), (-1,0), (0,2), (0,-2), (-2,0)])\n",
      "y = np.array([-1, -1, -1, 1, 1, 1, 1])\n",
      "y = y.reshape(len(y), 1)"
     ],
     "language": "python",
     "metadata": {},
     "outputs": [],
     "prompt_number": 79
    },
    {
     "cell_type": "code",
     "collapsed": false,
     "input": [
      "#transform to Z space\n",
      "Z_trans = lambda x1,x2: (x2**2-2*x1+3, x1**2-2*x2-3)\n",
      "Z = np.array([Z_trans(x[0],x[1]) for x in X])\n",
      "print Z"
     ],
     "language": "python",
     "metadata": {},
     "outputs": [
      {
       "output_type": "stream",
       "stream": "stdout",
       "text": [
        "[[ 1 -2]\n",
        " [ 4 -5]\n",
        " [ 4 -1]\n",
        " [ 5 -2]\n",
        " [ 7 -7]\n",
        " [ 7  1]\n",
        " [ 7  1]]\n"
       ]
      }
     ],
     "prompt_number": 46
    },
    {
     "cell_type": "code",
     "collapsed": false,
     "input": [
      "#plot the Z and y\n",
      "for i, c in zip([-1, 1], 'br'):\n",
      "    ix = np.where(y == i)\n",
      "    plt.plot(Z[ix, 0], Z[ix, 1], 'o', c = c)\n",
      "    \n",
      "plt.xlim((np.min(Z[:, 0]) - 1, np.max(Z[:, 0]) + 1))\n",
      "plt.ylim((np.min(Z[:, 1]) - 1, np.max(Z[:, 1]) + 1))\n",
      "plt.plot([], [], 'o', c = 'b', label = 'Class -1')\n",
      "plt.plot([], [], 'o', c = 'r', label = 'Class 1')\n",
      "plt.legend(numpoints = 1, loc = 2)\n",
      "plt.show()"
     ],
     "language": "python",
     "metadata": {},
     "outputs": [
      {
       "output_type": "stream",
       "stream": "stdout",
       "text": [
        "-1\n",
        "1"
       ]
      },
      {
       "output_type": "stream",
       "stream": "stdout",
       "text": [
        "\n"
       ]
      }
     ],
     "prompt_number": 50
    },
    {
     "cell_type": "markdown",
     "metadata": {},
     "source": [
      "##Question 3"
     ]
    },
    {
     "cell_type": "code",
     "collapsed": false,
     "input": [
      "#Get the kernel\n",
      "K =  (np.dot(X, X.T) + 1)**2\n",
      "K"
     ],
     "language": "python",
     "metadata": {},
     "outputs": [
      {
       "metadata": {},
       "output_type": "pyout",
       "prompt_number": 83,
       "text": [
        "array([[ 4,  1,  1,  0,  1,  1,  1],\n",
        "       [ 1,  4,  0,  1,  9,  1,  1],\n",
        "       [ 1,  0,  4,  1,  1,  9,  1],\n",
        "       [ 0,  1,  1,  4,  1,  1,  9],\n",
        "       [ 1,  9,  1,  1, 25,  9,  1],\n",
        "       [ 1,  1,  9,  1,  9, 25,  1],\n",
        "       [ 1,  1,  1,  9,  1,  1, 25]])"
       ]
      }
     ],
     "prompt_number": 83
    },
    {
     "cell_type": "code",
     "collapsed": false,
     "input": [
      "Q = matrix(np.dot(y, y.T) * K, tc = 'd')\n",
      "print Q\n",
      "print Q.size"
     ],
     "language": "python",
     "metadata": {},
     "outputs": [
      {
       "output_type": "stream",
       "stream": "stdout",
       "text": [
        "[ 4.00e+00  1.00e+00  1.00e+00  0.00e+00 -1.00e+00 -1.00e+00 -1.00e+00]\n",
        "[ 1.00e+00  4.00e+00  0.00e+00 -1.00e+00 -9.00e+00 -1.00e+00 -1.00e+00]\n",
        "[ 1.00e+00  0.00e+00  4.00e+00 -1.00e+00 -1.00e+00 -9.00e+00 -1.00e+00]\n",
        "[ 0.00e+00 -1.00e+00 -1.00e+00  4.00e+00  1.00e+00  1.00e+00  9.00e+00]\n",
        "[-1.00e+00 -9.00e+00 -1.00e+00  1.00e+00  2.50e+01  9.00e+00  1.00e+00]\n",
        "[-1.00e+00 -1.00e+00 -9.00e+00  1.00e+00  9.00e+00  2.50e+01  1.00e+00]\n",
        "[-1.00e+00 -1.00e+00 -1.00e+00  9.00e+00  1.00e+00  1.00e+00  2.50e+01]\n",
        "\n",
        "(7, 7)\n"
       ]
      }
     ],
     "prompt_number": 200
    },
    {
     "cell_type": "markdown",
     "metadata": {},
     "source": [
      "##The quadratic programming format in cvxopt\n",
      "Solves the pair of primal and dual convex quadratic programs\n",
      "\n",
      "\\begin{array}[t]{ll}\n",
      "\\mbox{minimize} & (1/2) x^TQx + p^T x \\\\\n",
      "\\mbox{subject to} & Gx \\preceq h \\\\ & Ax = b\n",
      "\\end{array}"
     ]
    },
    {
     "cell_type": "code",
     "collapsed": false,
     "input": [
      "p = matrix(-np.ones((7,1)))\n",
      "print p.size"
     ],
     "language": "python",
     "metadata": {},
     "outputs": [
      {
       "output_type": "stream",
       "stream": "stdout",
       "text": [
        "(7, 1)\n"
       ]
      }
     ],
     "prompt_number": 201
    },
    {
     "cell_type": "code",
     "collapsed": false,
     "input": [
      "A = matrix(y.T, tc = 'd')\n",
      "print A.size"
     ],
     "language": "python",
     "metadata": {},
     "outputs": [
      {
       "metadata": {},
       "output_type": "pyout",
       "prompt_number": 184,
       "text": [
        "(1, 7)"
       ]
      }
     ],
     "prompt_number": 184
    },
    {
     "cell_type": "code",
     "collapsed": false,
     "input": [
      "b = matrix(0, tc = 'd')\n",
      "print b.size"
     ],
     "language": "python",
     "metadata": {},
     "outputs": [
      {
       "metadata": {},
       "output_type": "pyout",
       "prompt_number": 190,
       "text": [
        "(1, 1)"
       ]
      }
     ],
     "prompt_number": 190
    },
    {
     "cell_type": "code",
     "collapsed": false,
     "input": [
      "G = matrix(-np.eye(7,7))\n",
      "print G.size"
     ],
     "language": "python",
     "metadata": {},
     "outputs": [
      {
       "metadata": {},
       "output_type": "pyout",
       "prompt_number": 178,
       "text": [
        "(7, 7)"
       ]
      }
     ],
     "prompt_number": 178
    },
    {
     "cell_type": "code",
     "collapsed": false,
     "input": [
      "h =matrix(np.zeros(7))\n",
      "print h.size"
     ],
     "language": "python",
     "metadata": {},
     "outputs": [
      {
       "metadata": {},
       "output_type": "pyout",
       "prompt_number": 179,
       "text": [
        "(7, 1)"
       ]
      }
     ],
     "prompt_number": 179
    },
    {
     "cell_type": "code",
     "collapsed": false,
     "input": [
      "sol=solvers.qp(Q, p, G, h, A, b)"
     ],
     "language": "python",
     "metadata": {},
     "outputs": [
      {
       "output_type": "stream",
       "stream": "stdout",
       "text": [
        "     pcost       dcost       gap    pres   dres\n",
        " 0: -2.0644e+00 -4.5383e+00  2e+01  3e+00  2e+00\n",
        " 1: -3.0994e+00 -4.4384e+00  5e+00  1e+00  6e-01\n",
        " 2: -1.2189e+00 -2.0952e+00  9e-01  3e-16  2e-14\n",
        " 3: -1.3986e+00 -1.4261e+00  3e-02  2e-16  1e-15\n",
        " 4: -1.4073e+00 -1.4076e+00  3e-04  2e-16  1e-15\n",
        " 5: -1.4074e+00 -1.4074e+00  3e-06  1e-16  1e-15\n",
        " 6: -1.4074e+00 -1.4074e+00  3e-08  2e-16  8e-16\n",
        "Optimal solution found.\n"
       ]
      }
     ],
     "prompt_number": 202
    },
    {
     "cell_type": "code",
     "collapsed": false,
     "input": [
      "results = sol['x']\n",
      "print results"
     ],
     "language": "python",
     "metadata": {},
     "outputs": [
      {
       "output_type": "stream",
       "stream": "stdout",
       "text": [
        "[ 4.32e-09]\n",
        "[ 7.04e-01]\n",
        "[ 7.04e-01]\n",
        "[ 8.89e-01]\n",
        "[ 2.59e-01]\n",
        "[ 2.59e-01]\n",
        "[ 5.27e-10]\n",
        "\n"
       ]
      }
     ],
     "prompt_number": 198
    },
    {
     "cell_type": "code",
     "collapsed": false,
     "input": [
      "np.argmin(results)"
     ],
     "language": "python",
     "metadata": {},
     "outputs": [
      {
       "metadata": {},
       "output_type": "pyout",
       "prompt_number": 196,
       "text": [
        "6"
       ]
      }
     ],
     "prompt_number": 196
    },
    {
     "cell_type": "code",
     "collapsed": false,
     "input": [
      "np.sum(results)"
     ],
     "language": "python",
     "metadata": {},
     "outputs": [
      {
       "metadata": {},
       "output_type": "pyout",
       "prompt_number": 199,
       "text": [
        "2.814814824403947"
       ]
      }
     ],
     "prompt_number": 199
    },
    {
     "cell_type": "markdown",
     "metadata": {},
     "source": [
      "##Question 15"
     ]
    },
    {
     "cell_type": "code",
     "collapsed": false,
     "input": [
      "#Read in training data\n",
      "path = '../../data/hw1/'\n",
      "\n",
      "training = np.loadtxt(path + 'features.train')"
     ],
     "language": "python",
     "metadata": {},
     "outputs": [],
     "prompt_number": 203
    },
    {
     "cell_type": "code",
     "collapsed": false,
     "input": [
      "training_label = training[:, 0]\n",
      "X_train = training[:, 1:]"
     ],
     "language": "python",
     "metadata": {},
     "outputs": [],
     "prompt_number": 233
    },
    {
     "cell_type": "code",
     "collapsed": false,
     "input": [
      "for i in zip(range(10)):\n",
      "    idx = np.where(training_label==i)\n",
      "    plt.plot(X_train[:,0][idx], X_train[:,1][idx], 'o')\n",
      "plt.show()"
     ],
     "language": "python",
     "metadata": {},
     "outputs": [],
     "prompt_number": 211
    },
    {
     "cell_type": "code",
     "collapsed": false,
     "input": [
      "idx = np.where(training_label==0)\n",
      "y = -np.ones(len(training_label))\n",
      "y[idx] = 1"
     ],
     "language": "python",
     "metadata": {},
     "outputs": [],
     "prompt_number": 216
    },
    {
     "cell_type": "markdown",
     "metadata": {},
     "source": [
      "###train a linear SVM"
     ]
    },
    {
     "cell_type": "code",
     "collapsed": false,
     "input": [
      "from sklearn import svm\n",
      "clf = svm.SVC(kernel='linear', C=0.01)\n",
      "clf.fit(X_train, y)"
     ],
     "language": "python",
     "metadata": {},
     "outputs": [
      {
       "metadata": {},
       "output_type": "pyout",
       "prompt_number": 220,
       "text": [
        "SVC(C=0.01, cache_size=200, class_weight=None, coef0=0.0, degree=3, gamma=0.0,\n",
        "  kernel='linear', max_iter=-1, probability=False, random_state=None,\n",
        "  shrinking=True, tol=0.001, verbose=False)"
       ]
      }
     ],
     "prompt_number": 220
    },
    {
     "cell_type": "code",
     "collapsed": false,
     "input": [
      "np.linalg.norm(clf.coef_)"
     ],
     "language": "python",
     "metadata": {},
     "outputs": [
      {
       "metadata": {},
       "output_type": "pyout",
       "prompt_number": 224,
       "text": [
        "0.57131714942568668"
       ]
      }
     ],
     "prompt_number": 224
    },
    {
     "cell_type": "markdown",
     "metadata": {},
     "source": [
      "##Question 16"
     ]
    },
    {
     "cell_type": "code",
     "collapsed": false,
     "input": [
      "def create_label(training_label, target_digit = 0):\n",
      "    idx = np.where(training_label==target_digit)\n",
      "    y = -np.ones(len(training_label))\n",
      "    y[idx] = 1\n",
      "    return y\n",
      "\n",
      "def svm_poly(x, y, C, degree ):\n",
      "    clf = svm.SVC(kernel='poly', C=C, degree = degree)\n",
      "    clf.fit(X_train, y)\n",
      "    \n",
      "    y_pred = clf.predict(x)\n",
      "    \n",
      "    Ein = np.sum( y*y_pred < 0 ) / (1.*y.size)\n",
      "    return({'Ein':Ein, 'b':clf.intercept_,\n",
      "          'clf':clf, 'n_support':clf.support_vectors_.shape[0]})"
     ],
     "language": "python",
     "metadata": {},
     "outputs": [],
     "prompt_number": 234
    },
    {
     "cell_type": "code",
     "collapsed": false,
     "input": [
      "result0 = svm_poly(X_train,create_label(training_label,target_digit=0), C=0.01, degree=2)\n",
      "result2 = svm_poly(X_train,create_label(training_label,target_digit=2), C=0.01, degree=2)\n",
      "result4 = svm_poly(X_train,create_label(training_label,target_digit=4), C=0.01, degree=2)\n",
      "result6 = svm_poly(X_train,create_label(training_label,target_digit=6), C=0.01, degree=2)\n",
      "result8 = svm_poly(X_train,create_label(training_label,target_digit=8), C=0.01, degree=2)"
     ],
     "language": "python",
     "metadata": {},
     "outputs": [],
     "prompt_number": 243
    },
    {
     "cell_type": "code",
     "collapsed": false,
     "input": [
      "print '0 versus not 0, Ein: ' + str(result0['Ein'])\n",
      "print '2 versus not 2, Ein: ' + str(result2['Ein'])\n",
      "print '4 versus not 4, Ein: ' + str(result4['Ein'])\n",
      "print '6 versus not 6, Ein: ' + str(result6['Ein'])\n",
      "print '8 versus not 8, Ein: ' + str(result8['Ein'])"
     ],
     "language": "python",
     "metadata": {},
     "outputs": [
      {
       "output_type": "stream",
       "stream": "stdout",
       "text": [
        "0 versus not 0, Ein: 0.163763544095\n",
        "2 versus not 2, Ein: 0.100260595254\n",
        "4 versus not 4, Ein: 0.0894253188863\n",
        "6 versus not 6, Ein: 0.0910711836511\n",
        "8 versus not 8, Ein: 0.0743382252092\n"
       ]
      }
     ],
     "prompt_number": 244
    },
    {
     "cell_type": "code",
     "collapsed": false,
     "input": [],
     "language": "python",
     "metadata": {},
     "outputs": []
    }
   ],
   "metadata": {}
  }
 ]
}