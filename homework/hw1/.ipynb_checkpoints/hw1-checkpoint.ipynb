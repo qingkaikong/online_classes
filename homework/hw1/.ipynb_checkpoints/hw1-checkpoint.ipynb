{
 "metadata": {
  "name": ""
 },
 "nbformat": 3,
 "nbformat_minor": 0,
 "worksheets": [
  {
   "cells": [
    {
     "cell_type": "code",
     "collapsed": false,
     "input": [
      "import numpy as np\n",
      "import matplotlib.pyplot as plt"
     ],
     "language": "python",
     "metadata": {},
     "outputs": [],
     "prompt_number": 2
    },
    {
     "cell_type": "markdown",
     "metadata": {},
     "source": [
      "##Question 2"
     ]
    },
    {
     "cell_type": "code",
     "collapsed": false,
     "input": [
      "#the initial X and y array\n",
      "X = np.array([(1,0), (0,1), (0,-1), (-1,0), (0,2), (0,-2), (-2,0)])\n",
      "y = np.array([-1, -1, -1, 1, 1, 1, 1])"
     ],
     "language": "python",
     "metadata": {},
     "outputs": [],
     "prompt_number": 13
    },
    {
     "cell_type": "code",
     "collapsed": false,
     "input": [
      "#transform to Z space\n",
      "Z_trans = lambda x1,x2: (x2**2-2*x1+3, x1**2-2*x2-3)\n",
      "Z = np.array([Z_trans(i[0],i[1]) for i in X])"
     ],
     "language": "python",
     "metadata": {},
     "outputs": [],
     "prompt_number": 24
    },
    {
     "cell_type": "code",
     "collapsed": false,
     "input": [
      "#plot the Z and y\n",
      "for i, c in zip([-1, 1], 'br'):\n",
      "    ix = np.where(y == i)\n",
      "    plt.plot(Z[ix, 0], Z[ix, 1], 'o', c = c)\n",
      "    \n",
      "plt.xlim((np.min(Z[:, 0]) - 1, np.max(Z[:, 0]) + 1))\n",
      "plt.ylim((np.min(Z[:, 1]) - 1, np.max(Z[:, 1]) + 1))\n",
      "plt.show()"
     ],
     "language": "python",
     "metadata": {},
     "outputs": [],
     "prompt_number": 33
    },
    {
     "cell_type": "code",
     "collapsed": false,
     "input": [],
     "language": "python",
     "metadata": {},
     "outputs": [],
     "prompt_number": 27
    },
    {
     "cell_type": "code",
     "collapsed": false,
     "input": [],
     "language": "python",
     "metadata": {},
     "outputs": []
    }
   ],
   "metadata": {}
  }
 ]
}