{
 "metadata": {
  "name": ""
 },
 "nbformat": 3,
 "nbformat_minor": 0,
 "worksheets": [
  {
   "cells": [
    {
     "cell_type": "code",
     "collapsed": false,
     "input": [
      "import numpy as np\n",
      "from sklearn import linear_model"
     ],
     "language": "python",
     "metadata": {},
     "outputs": [],
     "prompt_number": 3
    },
    {
     "cell_type": "markdown",
     "metadata": {},
     "source": [
      "##Question 7"
     ]
    },
    {
     "cell_type": "code",
     "collapsed": false,
     "input": [
      "#just do a simulation\n",
      "x_ = []\n",
      "y_ = []\n",
      "n = 1000\n",
      "for i in range(n):\n",
      "    x = np.random.uniform()\n",
      "    x_.append(x)\n",
      "    y_.append(x**2)\n",
      "    \n",
      "\n",
      "X = np.array(x_).reshape(n, 1)\n",
      "y = np.array(y_).reshape(n, 1)\n",
      "\n",
      "regr = linear_model.LinearRegression()\n",
      "\n",
      "# Train the model \n",
      "regr.fit(X, y)\n",
      "print regr.coef_\n",
      "print regr.intercept_"
     ],
     "language": "python",
     "metadata": {},
     "outputs": [
      {
       "output_type": "stream",
       "stream": "stdout",
       "text": [
        "[[ 0.99905772]]\n",
        "[-0.16598899]\n"
       ]
      }
     ],
     "prompt_number": 21
    },
    {
     "cell_type": "code",
     "collapsed": false,
     "input": [],
     "language": "python",
     "metadata": {},
     "outputs": [
      {
       "metadata": {},
       "output_type": "pyout",
       "prompt_number": 19,
       "text": [
        "array([[ 0.99251959]])"
       ]
      }
     ],
     "prompt_number": 19
    },
    {
     "cell_type": "code",
     "collapsed": false,
     "input": [],
     "language": "python",
     "metadata": {},
     "outputs": []
    }
   ],
   "metadata": {}
  }
 ]
}